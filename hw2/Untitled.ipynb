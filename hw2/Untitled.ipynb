{
 "cells": [
  {
   "cell_type": "code",
   "execution_count": 1,
   "metadata": {},
   "outputs": [],
   "source": [
    "import union_find"
   ]
  },
  {
   "cell_type": "code",
   "execution_count": 2,
   "metadata": {},
   "outputs": [],
   "source": [
    "with open('testcase/input1.txt') as file:\n",
    "    file = file.readlines()"
   ]
  },
  {
   "cell_type": "code",
   "execution_count": 3,
   "metadata": {},
   "outputs": [],
   "source": [
    "op_num = int(file[0].split(' ')[1])\n",
    "elem_num = int(file[0].split(' ')[0])"
   ]
  },
  {
   "cell_type": "code",
   "execution_count": 4,
   "metadata": {},
   "outputs": [],
   "source": [
    "qf = union_find.UnionFind(elem_num)"
   ]
  },
  {
   "cell_type": "code",
   "execution_count": 5,
   "metadata": {},
   "outputs": [
    {
     "name": "stdout",
     "output_type": "stream",
     "text": [
      "m\n",
      "q\n",
      "2\n",
      "m\n",
      "m\n",
      "q\n",
      "3\n",
      "m\n",
      "q\n",
      "5\n"
     ]
    }
   ],
   "source": [
    "for i in range(op_num):\n",
    "    op = file[i+1].split(' ')[0]\n",
    "    if op == 'M':\n",
    "        print('m')\n",
    "        node1 = int(file[i+1].split(' ')[1]) -1\n",
    "        node2 = int(file[i+1].split(' ')[2]) -1\n",
    "#         print(node1,node2)\n",
    "        qf.union(node1,node2)\n",
    "    elif op == 'Q':\n",
    "        print('q')\n",
    "        node3 = int(file[i+1].split(' ')[1])\n",
    "        res = qf.id\n",
    "        res2 = res[node3-1]\n",
    "        final = res.count(res2)\n",
    "        print(final)\n",
    "#         print(\"res\",res-1)\n",
    "#         print(cal)\n",
    "#         print(\"return\",cal[res-1])"
   ]
  },
  {
   "cell_type": "code",
   "execution_count": 6,
   "metadata": {},
   "outputs": [
    {
     "data": {
      "text/plain": [
       "[2, 2, 2, 2, 2]"
      ]
     },
     "execution_count": 6,
     "metadata": {},
     "output_type": "execute_result"
    }
   ],
   "source": [
    "qf.id"
   ]
  }
 ],
 "metadata": {
  "kernelspec": {
   "display_name": "Python 3",
   "language": "python",
   "name": "python3"
  },
  "language_info": {
   "codemirror_mode": {
    "name": "ipython",
    "version": 3
   },
   "file_extension": ".py",
   "mimetype": "text/x-python",
   "name": "python",
   "nbconvert_exporter": "python",
   "pygments_lexer": "ipython3",
   "version": "3.6.7"
  }
 },
 "nbformat": 4,
 "nbformat_minor": 2
}
