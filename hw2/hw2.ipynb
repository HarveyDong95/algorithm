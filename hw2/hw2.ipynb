{
 "cells": [
  {
   "cell_type": "markdown",
   "metadata": {},
   "source": [
    "# import data"
   ]
  },
  {
   "cell_type": "code",
   "execution_count": 1,
   "metadata": {},
   "outputs": [],
   "source": [
    "with open('testcase/input1.txt') as file:\n",
    "    file = file.readlines()"
   ]
  },
  {
   "cell_type": "code",
   "execution_count": 2,
   "metadata": {},
   "outputs": [
    {
     "data": {
      "text/plain": [
       "['5 7\\n',\n",
       " 'M 1 5\\n',\n",
       " 'Q 1\\n',\n",
       " 'M 5 4\\n',\n",
       " 'M 2 3\\n',\n",
       " 'Q 4\\n',\n",
       " 'M 1 2\\n',\n",
       " 'Q 5\\n']"
      ]
     },
     "execution_count": 2,
     "metadata": {},
     "output_type": "execute_result"
    }
   ],
   "source": [
    "file"
   ]
  },
  {
   "cell_type": "code",
   "execution_count": 3,
   "metadata": {},
   "outputs": [],
   "source": [
    "op_num = int(file[0].split(' ')[1])\n",
    "elem_num = int(file[0].split(' ')[0])"
   ]
  },
  {
   "cell_type": "code",
   "execution_count": 4,
   "metadata": {},
   "outputs": [
    {
     "name": "stdout",
     "output_type": "stream",
     "text": [
      "[1, 2, 3, 4, 5]\n"
     ]
    }
   ],
   "source": [
    "nodes = [x+1 for x in range(elem_num)]\n",
    "print(nodes)"
   ]
  },
  {
   "cell_type": "code",
   "execution_count": 5,
   "metadata": {},
   "outputs": [],
   "source": [
    "#def union_find(elem_num,nodes):\n",
    "father = nodes\n",
    "cal = [1] * elem_num\n",
    "\n",
    "#find node father\n",
    "def find_set(i):\n",
    "    print(\"find\",'i',i)\n",
    "    if(father[i-1] == i):\n",
    "        return father[i-1]\n",
    "    return find_set(father[i-1])"
   ]
  },
  {
   "cell_type": "code",
   "execution_count": 6,
   "metadata": {},
   "outputs": [],
   "source": [
    "#union\n",
    "def union(a,b):\n",
    "    print(\"union\")\n",
    "    a = find_set(a)\n",
    "    b = find_set(b)\n",
    "    print(\"a,b\",a,b)\n",
    "    if(a == b):\n",
    "        return\n",
    "    else:\n",
    "        if(cal[a-1] == cal[b-1]):\n",
    "            print(\"cal add here\",cal[b-1])\n",
    "            cal[b-1] += 1\n",
    "        father[a-1] = b\n",
    "    print(\"father\",father)"
   ]
  },
  {
   "cell_type": "code",
   "execution_count": 7,
   "metadata": {},
   "outputs": [
    {
     "name": "stdout",
     "output_type": "stream",
     "text": [
      "m\n",
      "1 5\n",
      "union\n",
      "find i 1\n",
      "find i 5\n",
      "a,b 1 5\n",
      "cal add here 1\n",
      "father [5, 2, 3, 4, 5]\n",
      "q\n",
      "find i 1\n",
      "find i 5\n",
      "res 4\n",
      "[1, 1, 1, 1, 2]\n",
      "return 2\n",
      "m\n",
      "5 4\n",
      "union\n",
      "find i 5\n",
      "find i 4\n",
      "a,b 5 4\n",
      "father [5, 2, 3, 4, 4]\n",
      "m\n",
      "2 3\n",
      "union\n",
      "find i 2\n",
      "find i 3\n",
      "a,b 2 3\n",
      "cal add here 1\n",
      "father [5, 3, 3, 4, 4]\n",
      "q\n",
      "find i 4\n",
      "res 3\n",
      "[1, 1, 2, 1, 2]\n",
      "return 1\n",
      "m\n",
      "1 2\n",
      "union\n",
      "find i 1\n",
      "find i 5\n",
      "find i 4\n",
      "find i 2\n",
      "find i 3\n",
      "a,b 4 3\n",
      "father [5, 3, 3, 3, 4]\n",
      "q\n",
      "find i 5\n",
      "find i 4\n",
      "find i 3\n",
      "res 2\n",
      "[1, 1, 2, 1, 2]\n",
      "return 2\n"
     ]
    }
   ],
   "source": [
    "for i in range(op_num):\n",
    "    op = file[i+1].split(' ')[0]\n",
    "    if op == 'M':\n",
    "        print('m')\n",
    "        node1 = int(file[i+1].split(' ')[1])\n",
    "        node2 = int(file[i+1].split(' ')[2])\n",
    "        print(node1,node2)\n",
    "        union(node1,node2)\n",
    "    elif op == 'Q':\n",
    "        print('q')\n",
    "        node3 = int(file[i+1].split(' ')[1])\n",
    "        res = find_set(node3)\n",
    "        print(\"res\",res-1)\n",
    "        print(cal)\n",
    "        print(\"return\",cal[res-1])"
   ]
  },
  {
   "cell_type": "code",
   "execution_count": 8,
   "metadata": {},
   "outputs": [
    {
     "data": {
      "text/plain": [
       "[1, 1, 2, 1, 2]"
      ]
     },
     "execution_count": 8,
     "metadata": {},
     "output_type": "execute_result"
    }
   ],
   "source": [
    "cal"
   ]
  },
  {
   "cell_type": "code",
   "execution_count": 9,
   "metadata": {},
   "outputs": [
    {
     "data": {
      "text/plain": [
       "[5, 3, 3, 3, 4]"
      ]
     },
     "execution_count": 9,
     "metadata": {},
     "output_type": "execute_result"
    }
   ],
   "source": [
    "father"
   ]
  },
  {
   "cell_type": "code",
   "execution_count": null,
   "metadata": {},
   "outputs": [],
   "source": []
  }
 ],
 "metadata": {
  "kernelspec": {
   "display_name": "Python 3",
   "language": "python",
   "name": "python3"
  },
  "language_info": {
   "codemirror_mode": {
    "name": "ipython",
    "version": 3
   },
   "file_extension": ".py",
   "mimetype": "text/x-python",
   "name": "python",
   "nbconvert_exporter": "python",
   "pygments_lexer": "ipython3",
   "version": "3.6.7"
  }
 },
 "nbformat": 4,
 "nbformat_minor": 2
}
